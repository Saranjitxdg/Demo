{
 "cells": [
  {
   "cell_type": "markdown",
   "id": "8a93bd64-0bd7-4019-bb14-cbc2c7b6da52",
   "metadata": {},
   "source": [
    "#### Define a function in which it will accept a and b it will return the (a+b)^2"
   ]
  },
  {
   "cell_type": "code",
   "execution_count": 1,
   "id": "cda5160e-b506-4f07-860c-a4360024d7f9",
   "metadata": {},
   "outputs": [
    {
     "name": "stdin",
     "output_type": "stream",
     "text": [
      "Enter the value of a : 2\n",
      "Enter the value of b : 3\n"
     ]
    },
    {
     "name": "stdout",
     "output_type": "stream",
     "text": [
      "(a+b)^2=25.0\n"
     ]
    }
   ],
   "source": [
    "def sqaure(a,b):\n",
    "    return (a**2+b**2+2*a*b)\n",
    "    \n",
    "i=float(input(\"Enter the value of a :\"))\n",
    "j=float(input(\"Enter the value of b :\"))\n",
    "result=sqaure(i,j)\n",
    "print(f\"(a+b)^2={result}\")"
   ]
  },
  {
   "cell_type": "code",
   "execution_count": 14,
   "id": "4a5145c2-4b61-4de1-928d-90cffa0635dc",
   "metadata": {},
   "outputs": [
    {
     "name": "stdout",
     "output_type": "stream",
     "text": [
      "[1, 2, 3, 4]\n"
     ]
    }
   ],
   "source": [
    "l1=[1,2,3,4]\n",
    "print(l1)"
   ]
  },
  {
   "cell_type": "code",
   "execution_count": 15,
   "id": "5d39f809-acfb-413f-b49d-70cd636780b8",
   "metadata": {},
   "outputs": [
    {
     "data": {
      "text/plain": [
       "[1, 2, 3, 4, 'Saranjit', True, 'Apple', 1, 2, 3, 4, 'Saranjit', True, 'Apple']"
      ]
     },
     "execution_count": 15,
     "metadata": {},
     "output_type": "execute_result"
    }
   ],
   "source": [
    "l2=[1,2,3,4,\"Saranjit\",True,\"Apple\"]\n",
    "l2+l2"
   ]
  },
  {
   "cell_type": "code",
   "execution_count": 19,
   "id": "ed182e8a-b59f-4695-877c-d9c086141612",
   "metadata": {},
   "outputs": [],
   "source": [
    "l3=l2.extend(l1)"
   ]
  },
  {
   "cell_type": "code",
   "execution_count": 20,
   "id": "28324ec7-704d-459d-9e42-7f10339543f1",
   "metadata": {},
   "outputs": [
    {
     "name": "stdout",
     "output_type": "stream",
     "text": [
      "None\n"
     ]
    }
   ],
   "source": [
    "l3=l2.append(l1)\n",
    "print(l3)"
   ]
  },
  {
   "cell_type": "code",
   "execution_count": 12,
   "id": "1b964f58-5691-42aa-a824-46178eb50321",
   "metadata": {},
   "outputs": [
    {
     "data": {
      "text/plain": [
       "[1, 2, 3, 4]"
      ]
     },
     "execution_count": 12,
     "metadata": {},
     "output_type": "execute_result"
    }
   ],
   "source": [
    "l1"
   ]
  },
  {
   "cell_type": "code",
   "execution_count": 21,
   "id": "8e04b1b8-b272-4348-a461-85e3d577825e",
   "metadata": {},
   "outputs": [
    {
     "data": {
      "text/plain": [
       "[1, 2, 3, 4, 'Saranjit', True, 'Apple', 1, 2, 3, 4, 1, 2, 3, 4, [1, 2, 3, 4]]"
      ]
     },
     "execution_count": 21,
     "metadata": {},
     "output_type": "execute_result"
    }
   ],
   "source": [
    "l2"
   ]
  },
  {
   "cell_type": "code",
   "execution_count": 22,
   "id": "d384c4cc-744e-4592-8de6-8eb42fcd03e5",
   "metadata": {},
   "outputs": [],
   "source": [
    "l3"
   ]
  },
  {
   "cell_type": "code",
   "execution_count": 23,
   "id": "92cc5e07-65ec-426b-802c-7f18847466b7",
   "metadata": {},
   "outputs": [
    {
     "data": {
      "text/plain": [
       "[1, 2, 3, 4, 'Saranjit', True, 'Apple', 1, 2, 3, 4]"
      ]
     },
     "execution_count": 23,
     "metadata": {},
     "output_type": "execute_result"
    }
   ],
   "source": [
    "l1=[1,2,3,4]\n",
    "l2=[1,2,3,4,\"Saranjit\",True,\"Apple\"]\n",
    "l2.extend(l1)\n",
    "l2"
   ]
  },
  {
   "cell_type": "code",
   "execution_count": 24,
   "id": "640902fa-ff00-429f-a43e-bcf88391fbc3",
   "metadata": {},
   "outputs": [
    {
     "data": {
      "text/plain": [
       "[1, 2, 3, 4, 'Saranjit', True, 'Apple', [1, 2, 3, 4]]"
      ]
     },
     "execution_count": 24,
     "metadata": {},
     "output_type": "execute_result"
    }
   ],
   "source": [
    "l1=[1,2,3,4]\n",
    "l2=[1,2,3,4,\"Saranjit\",True,\"Apple\"]\n",
    "l2.append(l1)\n",
    "l2"
   ]
  },
  {
   "cell_type": "code",
   "execution_count": 25,
   "id": "edc5b7d6-c12a-4b98-a0ce-88da490957e1",
   "metadata": {},
   "outputs": [
    {
     "data": {
      "text/plain": [
       "[1, 2, 3, 4]"
      ]
     },
     "execution_count": 25,
     "metadata": {},
     "output_type": "execute_result"
    }
   ],
   "source": [
    "l2[7]"
   ]
  },
  {
   "cell_type": "code",
   "execution_count": 26,
   "id": "17f88db4-0222-42ac-87bd-4da57b60c20c",
   "metadata": {},
   "outputs": [
    {
     "data": {
      "text/plain": [
       "3"
      ]
     },
     "execution_count": 26,
     "metadata": {},
     "output_type": "execute_result"
    }
   ],
   "source": [
    "l2[7][2]"
   ]
  },
  {
   "cell_type": "code",
   "execution_count": 28,
   "id": "30ddf544-2781-473a-a95d-f525055e5a9f",
   "metadata": {},
   "outputs": [
    {
     "name": "stdout",
     "output_type": "stream",
     "text": [
      "[1, 2, 3, 4, 5, 6, 7, 8, 9, 10, 11, 12, 13, 14, 15, 16, 17, 18, 19, 20, 21, 22, 23, 24, 25, 26, 27, 28, 29, 30, 31, 32, 33, 34, 35, 36, 37, 38, 39, 40, 41, 42, 43, 44, 45, 46, 47, 48, 49, 50]\n"
     ]
    }
   ],
   "source": [
    "list1 = list(range(1,51))\n",
    "print(list1)"
   ]
  },
  {
   "cell_type": "code",
   "execution_count": 29,
   "id": "dbd3c4f9-7cac-4914-9fec-515f30d9f7de",
   "metadata": {},
   "outputs": [],
   "source": [
    "even = []\n",
    "odd = []\n",
    "for number in list1:\n",
    "    if number % 2 == 0:\n",
    "        even.append(number)\n",
    "    else:\n",
    "        odd.append(number)\n",
    "\n",
    "\n",
    "    "
   ]
  },
  {
   "cell_type": "code",
   "execution_count": 30,
   "id": "353f1260-ce14-4593-a6db-81f761ce0325",
   "metadata": {},
   "outputs": [
    {
     "data": {
      "text/plain": [
       "[2,\n",
       " 4,\n",
       " 6,\n",
       " 8,\n",
       " 10,\n",
       " 12,\n",
       " 14,\n",
       " 16,\n",
       " 18,\n",
       " 20,\n",
       " 22,\n",
       " 24,\n",
       " 26,\n",
       " 28,\n",
       " 30,\n",
       " 32,\n",
       " 34,\n",
       " 36,\n",
       " 38,\n",
       " 40,\n",
       " 42,\n",
       " 44,\n",
       " 46,\n",
       " 48,\n",
       " 50]"
      ]
     },
     "execution_count": 30,
     "metadata": {},
     "output_type": "execute_result"
    }
   ],
   "source": [
    "even"
   ]
  },
  {
   "cell_type": "code",
   "execution_count": 31,
   "id": "c9e0b26f-a79f-41e6-9d10-c7810fc29d7f",
   "metadata": {},
   "outputs": [
    {
     "data": {
      "text/plain": [
       "[1,\n",
       " 3,\n",
       " 5,\n",
       " 7,\n",
       " 9,\n",
       " 11,\n",
       " 13,\n",
       " 15,\n",
       " 17,\n",
       " 19,\n",
       " 21,\n",
       " 23,\n",
       " 25,\n",
       " 27,\n",
       " 29,\n",
       " 31,\n",
       " 33,\n",
       " 35,\n",
       " 37,\n",
       " 39,\n",
       " 41,\n",
       " 43,\n",
       " 45,\n",
       " 47,\n",
       " 49]"
      ]
     },
     "execution_count": 31,
     "metadata": {},
     "output_type": "execute_result"
    }
   ],
   "source": [
    "odd"
   ]
  },
  {
   "cell_type": "code",
   "execution_count": 39,
   "id": "a420579f-6f2f-43d2-ab61-02ef6e18c616",
   "metadata": {},
   "outputs": [],
   "source": [
    "list2 = [1,2,3,4]\n"
   ]
  },
  {
   "cell_type": "code",
   "execution_count": 40,
   "id": "da705ae3-0488-4de9-8fab-7f7d2d3ebd0b",
   "metadata": {},
   "outputs": [],
   "source": [
    "list2.remove()"
   ]
  },
  {
   "cell_type": "code",
   "execution_count": 41,
   "id": "fd2a33a4-f602-4368-95db-b8bbe14b4d8a",
   "metadata": {},
   "outputs": [
    {
     "data": {
      "text/plain": [
       "[1, 2, 4]"
      ]
     },
     "execution_count": 41,
     "metadata": {},
     "output_type": "execute_result"
    }
   ],
   "source": [
    "list2"
   ]
  },
  {
   "cell_type": "code",
   "execution_count": 42,
   "id": "f43d3c4e-1b43-4c9c-93a6-1fd41985f5c1",
   "metadata": {},
   "outputs": [
    {
     "data": {
      "text/plain": [
       "2"
      ]
     },
     "execution_count": 42,
     "metadata": {},
     "output_type": "execute_result"
    }
   ],
   "source": [
    "list2.pop(-2)\n"
   ]
  },
  {
   "cell_type": "code",
   "execution_count": 43,
   "id": "bda37130-d175-4949-8526-f480932c41ec",
   "metadata": {},
   "outputs": [
    {
     "data": {
      "text/plain": [
       "[1, 4]"
      ]
     },
     "execution_count": 43,
     "metadata": {},
     "output_type": "execute_result"
    }
   ],
   "source": [
    "list2"
   ]
  },
  {
   "cell_type": "code",
   "execution_count": 45,
   "id": "d7c4dfd5-6084-4903-823d-00bf6b17ca86",
   "metadata": {},
   "outputs": [
    {
     "name": "stdout",
     "output_type": "stream",
     "text": [
      "3\n",
      "3\n"
     ]
    }
   ],
   "source": [
    "x=3\n",
    "y=x\n",
    "print(y)\n",
    "x=5\n",
    "print(y)"
   ]
  },
  {
   "cell_type": "code",
   "execution_count": null,
   "id": "0717313b-81f6-4b7f-94e6-8b1430cc2186",
   "metadata": {},
   "outputs": [],
   "source": []
  }
 ],
 "metadata": {
  "kernelspec": {
   "display_name": "Python 3 (ipykernel)",
   "language": "python",
   "name": "python3"
  },
  "language_info": {
   "codemirror_mode": {
    "name": "ipython",
    "version": 3
   },
   "file_extension": ".py",
   "mimetype": "text/x-python",
   "name": "python",
   "nbconvert_exporter": "python",
   "pygments_lexer": "ipython3",
   "version": "3.12.4"
  }
 },
 "nbformat": 4,
 "nbformat_minor": 5
}
